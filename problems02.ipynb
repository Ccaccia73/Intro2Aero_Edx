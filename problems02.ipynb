{
 "cells": [
  {
   "cell_type": "markdown",
   "metadata": {},
   "source": [
    "# Exercises and Problems for Module 2"
   ]
  },
  {
   "cell_type": "code",
   "execution_count": 193,
   "metadata": {
    "collapsed": false
   },
   "outputs": [],
   "source": [
    "import numpy as np\n",
    "from pint import UnitRegistry\n",
    "import matplotlib.pyplot as plt\n",
    "import Utils16101\n",
    "import sympy\n",
    "sympy.init_printing()\n",
    "%matplotlib inline"
   ]
  },
  {
   "cell_type": "code",
   "execution_count": 194,
   "metadata": {
    "collapsed": true
   },
   "outputs": [],
   "source": [
    "ureg = UnitRegistry()\n",
    "Q_ = ureg.Quantity"
   ]
  },
  {
   "cell_type": "markdown",
   "metadata": {},
   "source": [
    "## Exercise 2.4.2: compute lift coefficient"
   ]
  },
  {
   "cell_type": "markdown",
   "metadata": {},
   "source": [
    "First aircraft (Cessna like)"
   ]
  },
  {
   "cell_type": "code",
   "execution_count": 195,
   "metadata": {
    "collapsed": false
   },
   "outputs": [],
   "source": [
    "w1 = Q_(2400.,'lbf')\n",
    "Sref1 = Q_(180.,'foot**2')\n",
    "v1 = Q_(140.,'mph')\n",
    "alt1 = Q_(12e3,'foot')\n",
    "ρ1 = Q_(1.6e-3,'slug/foot**3')"
   ]
  },
  {
   "cell_type": "markdown",
   "metadata": {},
   "source": [
    "Second aircraft (*B777* like)"
   ]
  },
  {
   "cell_type": "code",
   "execution_count": 196,
   "metadata": {
    "collapsed": true
   },
   "outputs": [],
   "source": [
    "w2 = Q_(550e3,'lbf')\n",
    "Sref2 = Q_(4.6e3,'foot**2')\n",
    "v2 = Q_(560.,'mph')\n",
    "alt2 = Q_(35e3,'foot')\n",
    "ρ2 = Q_(7.4e-4,'slug/foot**3')"
   ]
  },
  {
   "cell_type": "markdown",
   "metadata": {},
   "source": [
    "**Results**"
   ]
  },
  {
   "cell_type": "code",
   "execution_count": 197,
   "metadata": {
    "collapsed": false
   },
   "outputs": [
    {
     "name": "stdout",
     "output_type": "stream",
     "text": [
      "First aircraft:  0.3953028287585151 dimensionless\n",
      "Second aircraft:  0.47903177691800075 dimensionless\n"
     ]
    }
   ],
   "source": [
    "print(\"First aircraft: \",Utils16101.computeLiftCoeff(w1,Sref1,v1,alt1,ρ1))\n",
    "print(\"Second aircraft: \",Utils16101.computeLiftCoeff(w2,Sref2,v2,alt2,ρ2))"
   ]
  },
  {
   "cell_type": "markdown",
   "metadata": {},
   "source": [
    "## Exercise 2.4.3: drag comparison"
   ]
  },
  {
   "cell_type": "markdown",
   "metadata": {},
   "source": [
    "Hypoteses:\n",
    "* $C_{Dcyl}\\approx1$ and $C_{Dfair}\\approx0.01$\n",
    "* $S_{ref\\ cyl} = d\\cdot h$, and $S_{ref\\ fair} = c\\cdot h$, with $c = 10d$\n",
    "* same $V_{\\infty}$\n",
    "\n",
    "Expression of Drag:\n",
    "\n",
    "$$D = \\frac{1}{2} \\cdot C_D \\rho V_{\\infty}^2 S_{ref}$$\n",
    "\n",
    "Ratio of Drags\n",
    "\n",
    "$$\\frac{D_{cyl}}{D_{fair}} = \\frac{\\frac{1}{2} \\cdot C_{Dcyl} \\rho V_{\\infty}^2 S_{ref\\ cyl}}{\\frac{1}{2} \\cdot C_{Dfair} \\rho V_{\\infty}^2 S_{ref\\ fair}} = \\frac{C_{Dcyl} \\cdot dh}{C_{Dfair} \\cdot 10dh} $$"
   ]
  },
  {
   "cell_type": "markdown",
   "metadata": {},
   "source": [
    "## Exercise 2.4.7: _Mach_ and _Reynolds_ number comparisons"
   ]
  },
  {
   "cell_type": "markdown",
   "metadata": {},
   "source": [
    "First aircraft additional parameters:"
   ]
  },
  {
   "cell_type": "code",
   "execution_count": 198,
   "metadata": {
    "collapsed": true
   },
   "outputs": [],
   "source": [
    "c1 = Q_(5.0,'foot')\n",
    "μ1 = Q_(3.5e-7,'slug/foot/second')\n",
    "a1 = Q_(1.1e3,'foot/second')"
   ]
  },
  {
   "cell_type": "markdown",
   "metadata": {},
   "source": [
    "Second aircraft additional parameters"
   ]
  },
  {
   "cell_type": "code",
   "execution_count": 199,
   "metadata": {
    "collapsed": true
   },
   "outputs": [],
   "source": [
    "c2 = Q_(23.0,'foot')\n",
    "μ2 = Q_(3.0e-7,'slug/foot/second')\n",
    "a2 = Q_(9.7e2,'foot/second')"
   ]
  },
  {
   "cell_type": "code",
   "execution_count": 200,
   "metadata": {
    "collapsed": false
   },
   "outputs": [
    {
     "name": "stdout",
     "output_type": "stream",
     "text": [
      "First aircraft - Ma:  1.867e-01  Re:  4.693e+06\n",
      "Second aircraft - Ma:  8.467e-01  Re:  4.660e+07\n"
     ]
    }
   ],
   "source": [
    "Ma1, Re1 = Utils16101.computeMachRe(v1,a1,μ1,c1,ρ1)\n",
    "Ma2, Re2 = Utils16101.computeMachRe(v2,a2,μ2,c2,ρ2)\n",
    "print(\"First aircraft - Ma: {0:10.3e}  Re: {1:10.3e}\".format(Ma1.magnitude,Re1.magnitude))\n",
    "print(\"Second aircraft - Ma: {0:10.3e}  Re: {1:10.3e}\".format(Ma2.magnitude,Re2.magnitude))"
   ]
  },
  {
   "cell_type": "markdown",
   "metadata": {},
   "source": [
    "## Exercise 2.4.10: dynamic similarity"
   ]
  },
  {
   "cell_type": "markdown",
   "metadata": {},
   "source": [
    "**Wind tunnel** test conditions"
   ]
  },
  {
   "cell_type": "code",
   "execution_count": 201,
   "metadata": {
    "collapsed": false
   },
   "outputs": [],
   "source": [
    "ρ_inf = Q_(2.4e-3,'slug/ft**3')\n",
    "a_inf = Q_(1.1e3,'ft/s')\n",
    "μ_inf = Q_(3.7e-7,'slug/ft/s')\n",
    "\n",
    "v = Q_(200.,'mph')\n",
    "c = c1/4"
   ]
  },
  {
   "cell_type": "code",
   "execution_count": 202,
   "metadata": {
    "collapsed": false
   },
   "outputs": [
    {
     "name": "stdout",
     "output_type": "stream",
     "text": [
      "Wind tunnel - Ma:  2.667e-01  Re:  2.378e+06\n"
     ]
    }
   ],
   "source": [
    "Ma_wt, Re_wt = Utils16101.computeMachRe(v,a_inf,μ_inf,c,ρ_inf)\n",
    "print(\"Wind tunnel - Ma: {0:10.3e}  Re: {1:10.3e}\".format(Ma_wt.magnitude,Re_wt.magnitude))"
   ]
  },
  {
   "cell_type": "markdown",
   "metadata": {},
   "source": [
    "## Exercise 2.5.2: minimum Takeoff velocity"
   ]
  },
  {
   "cell_type": "markdown",
   "metadata": {},
   "source": [
    "Minimum required lift: **L = W** as $V_{\\infty} \\perp \\vec{g} $\n",
    "\n",
    "$$L = W = \\frac{1}{2} \\cdot \\rho V_{\\infty}^2 C_L * S_{ref} $$"
   ]
  },
  {
   "cell_type": "code",
   "execution_count": 203,
   "metadata": {
    "collapsed": true
   },
   "outputs": [],
   "source": [
    "W = Q_(650e3,'lbf')\n",
    "Sref = Q_(4.6e3,'ft**2')\n",
    "ρ_inf = Q_(2.4e-3,'slug/ft**3')\n",
    "CL_max = 2.5"
   ]
  },
  {
   "cell_type": "code",
   "execution_count": 204,
   "metadata": {
    "collapsed": false
   },
   "outputs": [
    {
     "name": "stdout",
     "output_type": "stream",
     "text": [
      "147.97411698442224 mph\n"
     ]
    }
   ],
   "source": [
    "V_inf = np.sqrt(2*W.to('slug*ft/s**2')/(ρ_inf*CL_max*Sref))\n",
    "print(V_inf.to('mph'))"
   ]
  },
  {
   "cell_type": "markdown",
   "metadata": {},
   "source": [
    "## Exercise 2.6.2: Range estimate"
   ]
  },
  {
   "cell_type": "markdown",
   "metadata": {},
   "source": [
    "**Breguet** equation for determining range (level flight, no _takeoff_ or _landing_):\n",
    "\n",
    "$$R = \\eta_0 \\cdot \\frac{L}{D} \\cdot \\frac{Q_R}{g} \\cdot \\ln \\left(1+\\frac{W_{fuel}}{W_{final}}\\right)$$"
   ]
  },
  {
   "cell_type": "code",
   "execution_count": 205,
   "metadata": {
    "collapsed": true
   },
   "outputs": [],
   "source": [
    "η0 = Q_(0.32,'dimensionless')\n",
    "LoverD = Q_(17.,'dimensionless')\n",
    "QR = Q_(42.,'MJ/kg')\n",
    "g = Q_(9.80665,'m/s**2')\n",
    "W_in = Q_(400e3,'kg')\n",
    "W_fuel = Q_(175e3,'kg')\n",
    "W_final = W_in - W_fuel"
   ]
  },
  {
   "cell_type": "code",
   "execution_count": 206,
   "metadata": {
    "collapsed": false
   },
   "outputs": [
    {
     "name": "stdout",
     "output_type": "stream",
     "text": [
      "Range =  1.341e+04 kilometer\n"
     ]
    }
   ],
   "source": [
    "R = η0 * LoverD * QR.to('m**2/s**2')/g*np.log(1+W_fuel/W_final)\n",
    "print(\"Range = {0:10.3e}\".format(R.to('km')))"
   ]
  },
  {
   "cell_type": "markdown",
   "metadata": {},
   "source": [
    "# Sample Problems"
   ]
  },
  {
   "cell_type": "markdown",
   "metadata": {},
   "source": [
    "## Problem 2.7.1: Lift and Drag for flat plate in supersonic flow"
   ]
  },
  {
   "cell_type": "markdown",
   "metadata": {},
   "source": [
    "Hypoteses:\n",
    "* $\\Delta p = p_l - p_u > 0$\n",
    "* $p_l , p_u constant $\n",
    "* $\\alpha \\ small \\rightarrow \\cos(\\alpha) \\approx 1, \\sin(\\alpha) \\approx \\alpha$"
   ]
  },
  {
   "cell_type": "markdown",
   "metadata": {},
   "source": [
    "Relations:\n",
    "$$\n",
    "\\begin{align}\n",
    "L &= \\Delta p \\cdot S \\cos(\\alpha) \\\\\n",
    "D &= \\Delta p \\cdot S \\sin(\\alpha)\n",
    "\\end{align}\n",
    "$$\n",
    "**Lift** and **Drag** coefficients:\n",
    "$$\n",
    "\\begin{align}\n",
    "C_L &= \\frac{L}{\\frac{1}{2}\\rho_{\\infty} V_{\\infty}^2S} &\\approx \\frac{\\Delta p}{\\frac{1}{2}\\rho_{\\infty} V_{\\infty}^2} \\\\\n",
    "C_D &= \\frac{D}{\\frac{1}{2}\\rho_{\\infty} V_{\\infty}^2S} &\\approx \\frac{\\Delta p \\alpha}{\\frac{1}{2}\\rho_{\\infty} V_{\\infty}^2}\n",
    "\\end{align}\n",
    "$$\n",
    "\n",
    "$\\Delta p \\propto \\alpha$ for *supersonic flow* and *small angle*\n",
    "$$\n",
    "\\begin{align}\n",
    "C_L &\\approx \\frac{\\Delta p}{\\frac{1}{2}\\rho_{\\infty} V_{\\infty}^2} &\\propto \\frac{\\alpha}{\\frac{1}{2}\\rho_{\\infty} V_{\\infty}^2}\\\\\n",
    "C_D &\\approx \\frac{\\Delta p \\alpha}{\\frac{1}{2}\\rho_{\\infty} V_{\\infty}^2} &\\propto \\frac{\\alpha^2}{\\frac{1}{2}\\rho_{\\infty} V_{\\infty}^2S} \n",
    "\\end{align}\n",
    "$$"
   ]
  },
  {
   "cell_type": "markdown",
   "metadata": {},
   "source": [
    "## Problem 2.7.2: Aerodynamic performance"
   ]
  },
  {
   "cell_type": "markdown",
   "metadata": {},
   "source": [
    "Aircraft parameters:"
   ]
  },
  {
   "cell_type": "code",
   "execution_count": 207,
   "metadata": {
    "collapsed": true
   },
   "outputs": [],
   "source": [
    "W = Q_(550e3,'lbf')\n",
    "Sref = Q_(4.6e3,'ft**2')\n",
    "AR = Q_(9.,'dimensionless')"
   ]
  },
  {
   "cell_type": "markdown",
   "metadata": {},
   "source": [
    "Air parameters at two different altitudes"
   ]
  },
  {
   "cell_type": "code",
   "execution_count": 208,
   "metadata": {
    "collapsed": true
   },
   "outputs": [],
   "source": [
    "ρ_inf1 = Q_(1.6e-3,'slug/ft**3') #1.2e4 ft\n",
    "ρ_inf2 = Q_(7.3e-4,'slug/ft**3') #3.5e4 ft\n",
    "a_inf1 = Q_(1069.,'ft/s')\n",
    "a_inf2 = Q_(973.,'ft/s')"
   ]
  },
  {
   "cell_type": "markdown",
   "metadata": {},
   "source": [
    "Aircraft speed"
   ]
  },
  {
   "cell_type": "code",
   "execution_count": 209,
   "metadata": {
    "collapsed": true
   },
   "outputs": [],
   "source": [
    "Ma = Q_(0.85,'dimensionless')"
   ]
  },
  {
   "cell_type": "markdown",
   "metadata": {},
   "source": [
    "**Parabolic drag model**\n",
    "\n",
    "$$C_D = C_{D0} + \\frac{C_L^2}{\\pi e AR}$$\n",
    "\n",
    "with:\n",
    "* _AR_: Aspect ratio\n",
    "* _e_: **Oswald** span efficiency"
   ]
  },
  {
   "cell_type": "code",
   "execution_count": 210,
   "metadata": {
    "collapsed": true
   },
   "outputs": [],
   "source": [
    "C_D0 = Q_(0.05,'dimensionless')\n",
    "e_osw = Q_(0.8,'dimensionless')"
   ]
  },
  {
   "cell_type": "code",
   "execution_count": 211,
   "metadata": {
    "collapsed": false
   },
   "outputs": [
    {
     "name": "stdout",
     "output_type": "stream",
     "text": [
      "Lift coefficient at 12000ft:  1.810e-01 dimensionless\n",
      "Lift coefficient at 35000ft:  4.789e-01 dimensionless\n"
     ]
    }
   ],
   "source": [
    "V_inf1 = Ma*a_inf1\n",
    "V_inf2 = Ma*a_inf2\n",
    "\n",
    "C_L1 = W.to('slug*ft/s**2')/(0.5*ρ_inf1*V_inf1**2*Sref)\n",
    "C_L2 = W.to('slug*ft/s**2')/(0.5*ρ_inf2*V_inf2**2*Sref)\n",
    "print(\"Lift coefficient at 12000ft: {0:10.3e}\".format(C_L1))\n",
    "print(\"Lift coefficient at 35000ft: {0:10.3e}\".format(C_L2))"
   ]
  },
  {
   "cell_type": "markdown",
   "metadata": {},
   "source": [
    "**NB**: _Drag count_ $\\rightarrow C_D \\cdot 10^4$"
   ]
  },
  {
   "cell_type": "code",
   "execution_count": 212,
   "metadata": {
    "collapsed": false
   },
   "outputs": [
    {
     "name": "stdout",
     "output_type": "stream",
     "text": [
      "Drag count at 12000ft:      514.5 dimensionless\n",
      "Drag count at 35000ft:      601.4 dimensionless\n"
     ]
    }
   ],
   "source": [
    "C_D1 = C_D0 + C_L1**2/(np.pi*e_osw*AR)\n",
    "C_D2 = C_D0 + C_L2**2/(np.pi*e_osw*AR)\n",
    "print(\"Drag count at 12000ft: {0:10.1f}\".format(C_D1*1e4))\n",
    "print(\"Drag count at 35000ft: {0:10.1f}\".format(C_D2*1e4))"
   ]
  },
  {
   "cell_type": "markdown",
   "metadata": {},
   "source": [
    "Lift to Drag ratio:"
   ]
  },
  {
   "cell_type": "code",
   "execution_count": 213,
   "metadata": {
    "collapsed": false
   },
   "outputs": [
    {
     "name": "stdout",
     "output_type": "stream",
     "text": [
      "Lift to Drag ratio at 12000ft:  3.518e+00 dimensionless\n",
      "Lift to Drag ratio at 35000ft:  7.963e+00 dimensionless\n"
     ]
    }
   ],
   "source": [
    "L_D1 = C_L1/C_D1\n",
    "L_D2 = C_L2/C_D2\n",
    "print(\"Lift to Drag ratio at 12000ft: {0:10.3e}\".format(L_D1))\n",
    "print(\"Lift to Drag ratio at 35000ft: {0:10.3e}\".format(L_D2))"
   ]
  },
  {
   "cell_type": "markdown",
   "metadata": {},
   "source": [
    "**Required Thrust**: $T = D$"
   ]
  },
  {
   "cell_type": "code",
   "execution_count": 214,
   "metadata": {
    "collapsed": false
   },
   "outputs": [
    {
     "name": "stdout",
     "output_type": "stream",
     "text": [
      "Thrust required at 12000ft:  1.563e+05 force_pound\n",
      "Thrust required at 35000ft:  6.907e+04 force_pound\n"
     ]
    }
   ],
   "source": [
    "T1 = 0.5*C_D1*ρ_inf1*V_inf1**2*Sref\n",
    "T2 = 0.5*C_D2*ρ_inf2*V_inf2**2*Sref\n",
    "print(\"Thrust required at 12000ft: {0:10.3e}\".format(T1.to('lbf')))\n",
    "print(\"Thrust required at 35000ft: {0:10.3e}\".format(T2.to('lbf')))"
   ]
  },
  {
   "cell_type": "markdown",
   "metadata": {},
   "source": [
    "**Required Power**: $P = T \\cdot V_{\\infty}$"
   ]
  },
  {
   "cell_type": "code",
   "execution_count": 215,
   "metadata": {
    "collapsed": false
   },
   "outputs": [
    {
     "name": "stdout",
     "output_type": "stream",
     "text": [
      "Power required at 12000ft:  1.420e+08 foot * force_pound / second\n",
      "Power required at 35000ft:  5.712e+07 foot * force_pound / second\n"
     ]
    }
   ],
   "source": [
    "P1 = T1.to('lbf')*V_inf1\n",
    "P2 = T2.to('lbf')*V_inf2\n",
    "print(\"Power required at 12000ft: {0:10.3e}\".format(P1))\n",
    "print(\"Power required at 35000ft: {0:10.3e}\".format(P2))"
   ]
  },
  {
   "cell_type": "markdown",
   "metadata": {},
   "source": [
    "## Problem 2.7.3: sensitivity of payload"
   ]
  },
  {
   "cell_type": "markdown",
   "metadata": {},
   "source": [
    "Using **Breguet** equation and comparing terms to get the same range\n",
    "$$ 0.99 \\eta_0 \\frac{L}{D} \\cdot \\frac{Q_R}{g} \\ln \\left(\\frac{W_{in}-100n}{W_{fin}-100n}\\right)  = \n",
    "\\eta_0 \\frac{L}{D} \\cdot \\frac{Q_R}{g} \\ln \\left(\\frac{W_{in}}{W_{fin}}\\right)$$\n",
    "which gives:\n",
    "$$  \\left(\\frac{W_{in}-100n}{W_{fin}-100n}\\right)^{0.99}  = \\left(\\frac{W_{in}}{W_{fin}}\\right)$$\n",
    "\n",
    "\n"
   ]
  },
  {
   "cell_type": "code",
   "execution_count": 216,
   "metadata": {
    "collapsed": true
   },
   "outputs": [],
   "source": [
    "Win = 400e3\n",
    "Wfin = 400e3-175e3"
   ]
  },
  {
   "cell_type": "code",
   "execution_count": 217,
   "metadata": {
    "collapsed": true
   },
   "outputs": [],
   "source": [
    "n = np.arange(25.,35.)\n",
    "y = ((Win-100*n)/(Wfin-100*n))**0.99 - Win/Wfin"
   ]
  },
  {
   "cell_type": "code",
   "execution_count": 218,
   "metadata": {
    "collapsed": false
   },
   "outputs": [
    {
     "data": {
      "image/png": "[encoded data removed]",
      "text/plain": [
       "<matplotlib.figure.Figure at 0x7f4f14af4cf8>"
      ]
     },
     "metadata": {},
     "output_type": "display_data"
    }
   ],
   "source": [
    "plt.figure(figsize=(16,10), dpi=300)\n",
    "plt.plot(n, y, lw=3.)\n",
    "plt.grid();"
   ]
  },
  {
   "cell_type": "code",
   "execution_count": 219,
   "metadata": {
    "collapsed": true
   },
   "outputs": [],
   "source": [
    "zero_crossing = np.where(np.diff(np.sign(y)))[0]+1"
   ]
  },
  {
   "cell_type": "code",
   "execution_count": 220,
   "metadata": {
    "collapsed": false
   },
   "outputs": [
    {
     "name": "stdout",
     "output_type": "stream",
     "text": [
      "number of passengers: 30\n"
     ]
    }
   ],
   "source": [
    "print(\"number of passengers: {0:d}\".format(int(n[zero_crossing])))"
   ]
  },
  {
   "cell_type": "markdown",
   "metadata": {},
   "source": [
    "## Problem 2.7.4: rate of climb"
   ]
  },
  {
   "cell_type": "markdown",
   "metadata": {},
   "source": [
    "Relations:\n",
    "- $\\dot{h} = V_{\\infty} \\sin(\\theta)$\n",
    "- $ T = D + W \\sin(\\theta)$\n",
    "\n",
    "so:\n",
    "$$ \\dot{h} = V_{\\infty} \\cdot \\frac{T-D}{W}$$"
   ]
  },
  {
   "cell_type": "markdown",
   "metadata": {},
   "source": [
    "## Problem 2.7.5: maximum lift-to-drag ratio"
   ]
  },
  {
   "cell_type": "code",
   "execution_count": 221,
   "metadata": {
    "collapsed": true
   },
   "outputs": [],
   "source": [
    "Cd, Cd0, K = sympy.symbols('C_D C_D0 K')"
   ]
  },
  {
   "cell_type": "code",
   "execution_count": 222,
   "metadata": {
    "collapsed": false
   },
   "outputs": [
    {
     "data": {
      "image/png": "[encoded data removed]",
      "text/latex": [
       "$$\\frac{1}{C_{D}} \\sqrt{K \\left(C_{D} - C_{D0}\\right)}$$"
      ],
      "text/plain": [
       "  ________________\n",
       "╲╱ K⋅(C_D - C_D0) \n",
       "──────────────────\n",
       "       C_D        "
      ]
     },
     "execution_count": 222,
     "metadata": {},
     "output_type": "execute_result"
    }
   ],
   "source": [
    "expr = sympy.sqrt((Cd-Cd0)*K)/Cd\n",
    "expr"
   ]
  },
  {
   "cell_type": "code",
   "execution_count": 223,
   "metadata": {
    "collapsed": false
   },
   "outputs": [
    {
     "data": {
      "image/png": "[encoded data removed]",
      "text/latex": [
       "$$\\frac{\\sqrt{K \\left(C_{D} - C_{D0}\\right)} \\left(- \\frac{C_{D}}{2} + C_{D0}\\right)}{C_{D}^{2} \\left(C_{D} - C_{D0}\\right)}$$"
      ],
      "text/plain": [
       "  ________________ ⎛  C_D       ⎞\n",
       "╲╱ K⋅(C_D - C_D0) ⋅⎜- ─── + C_D0⎟\n",
       "                   ⎝   2        ⎠\n",
       "─────────────────────────────────\n",
       "           2                     \n",
       "        C_D ⋅(C_D - C_D0)        "
      ]
     },
     "execution_count": 223,
     "metadata": {},
     "output_type": "execute_result"
    }
   ],
   "source": [
    "sympy.simplify(sympy.diff(expr,Cd))"
   ]
  },
  {
   "cell_type": "markdown",
   "metadata": {},
   "source": [
    "Maximum lift to drag ratio for $C_D = 2D_{D0}$\n",
    "\n",
    "$$ \\left(\\frac{L}{D} \\right)_{max} = \\frac{1}{2}\\sqrt{\\frac{\\pi e AR}{C_{D0}}}$$"
   ]
  },
  {
   "cell_type": "markdown",
   "metadata": {},
   "source": [
    "# Homework"
   ]
  },
  {
   "cell_type": "markdown",
   "metadata": {},
   "source": [
    "## Problem 2.8.1: cryogenic wind tunnel test"
   ]
  },
  {
   "cell_type": "markdown",
   "metadata": {},
   "source": [
    "Small aircraft flying at following conditions:"
   ]
  },
  {
   "cell_type": "code",
   "execution_count": 224,
   "metadata": {
    "collapsed": true
   },
   "outputs": [],
   "source": [
    "V_full = Q_(10.,'m/s')\n",
    "ρ_full = Q_(0.5,'kg/m**3')\n",
    "T_full = Q_(233.,'K')"
   ]
  },
  {
   "cell_type": "markdown",
   "metadata": {},
   "source": [
    "Air supposed to be ideal gas:"
   ]
  },
  {
   "cell_type": "code",
   "execution_count": 225,
   "metadata": {
    "collapsed": true
   },
   "outputs": [],
   "source": [
    "R = Q_(287,'J/kg/K')\n",
    "γ = Q_(1.4,'dimensionless')"
   ]
  },
  {
   "cell_type": "markdown",
   "metadata": {},
   "source": [
    "Temperature - viscosity dependance: $\\frac{\\mu_1}{\\mu_2} = \\sqrt{\\frac{T_1}{T_2}}$"
   ]
  },
  {
   "cell_type": "markdown",
   "metadata": {},
   "source": [
    "**Freestream pressure**"
   ]
  },
  {
   "cell_type": "code",
   "execution_count": 226,
   "metadata": {
    "collapsed": false
   },
   "outputs": [
    {
     "name": "stdout",
     "output_type": "stream",
     "text": [
      "Freestream pressure:  3.344e+04 pascal\n"
     ]
    }
   ],
   "source": [
    "p_full = ρ_full*R*T_full\n",
    "print(\"Freestream pressure: {0:10.3e}\".format(p_full.to('Pa')))"
   ]
  },
  {
   "cell_type": "markdown",
   "metadata": {},
   "source": [
    "** Mach number**"
   ]
  },
  {
   "cell_type": "code",
   "execution_count": 227,
   "metadata": {
    "collapsed": false
   },
   "outputs": [
    {
     "name": "stdout",
     "output_type": "stream",
     "text": [
      "Fullscale Mach number:  3.268e-02 dimensionless\n"
     ]
    }
   ],
   "source": [
    "a_full = np.sqrt(γ*R.to('m**2/s**2/K')*T_full)\n",
    "Ma_full = V_full/a_full\n",
    "print(\"Fullscale Mach number: {0:10.3e}\".format(Ma_full))"
   ]
  },
  {
   "cell_type": "code",
   "execution_count": 228,
   "metadata": {
    "collapsed": true
   },
   "outputs": [],
   "source": [
    "scale = Q_(0.2,'dimensionless')\n",
    "p_scale = Q_(1e5,'Pa')"
   ]
  },
  {
   "cell_type": "markdown",
   "metadata": {},
   "source": [
    "** Compare Reynolds and Mach numbers:**\n",
    "$$\n",
    "\\begin{align}\n",
    "Re: & \\frac{\\rho_f V_f l_f }{\\mu_f} &=& \\frac{\\rho_s V_s l_s}{\\mu_s} &\\rightarrow & \\frac{\\rho_s}{\\rho_f} &=&\n",
    "\\frac{\\mu_s}{\\mu_f} \\cdot \\frac{V_f}{V_s} \\cdot \\frac{1}{scale} \\\\\n",
    "Mach: & \\frac{V_f}{a_f} &=& \\frac{V_s}{a_s} &\\rightarrow & \\frac{}{} \\frac{V_s}{V_f} &=&\n",
    "\\sqrt{\\frac{T_f}{T_s}} \\\\\n",
    "\\end{align}\n",
    "$$\n",
    "Using temperature - viscosity dependance:\n",
    "$$ \\frac{\\rho_s}{\\rho_f} = \\frac{1}{scale} $$\n",
    "\n",
    "Knowing $\\rho_s$ from relation above and $p_s$ and using $p = \\rho RT$ we find $T_s$\n",
    "\n",
    "From _Mach number_ relation we find $V_s$"
   ]
  },
  {
   "cell_type": "code",
   "execution_count": 229,
   "metadata": {
    "collapsed": false
   },
   "outputs": [],
   "source": [
    "ρ_scale = ρ_full / scale\n",
    "T_scale = p_scale.to('kg/m/s**2')/R.to('m**2/s**2/K')/ρ_scale\n",
    "V_scale = np.sqrt(T_scale/T_full)*V_full"
   ]
  },
  {
   "cell_type": "code",
   "execution_count": 230,
   "metadata": {
    "collapsed": false
   },
   "outputs": [
    {
     "name": "stdout",
     "output_type": "stream",
     "text": [
      "Scaled model density:      2.500 kilogram / meter ** 3\n",
      "Scaled model Temperature:    139.373 kelvin\n",
      "Scaled model velocity:      7.734 meter / second\n"
     ]
    }
   ],
   "source": [
    "print(\"Scaled model density: {0:10.3f}\".format(ρ_scale))\n",
    "print(\"Scaled model Temperature: {0:10.3f}\".format(T_scale))\n",
    "print(\"Scaled model velocity: {0:10.3f}\".format(V_scale))"
   ]
  },
  {
   "cell_type": "markdown",
   "metadata": {},
   "source": [
    "** Drag comparison **\n",
    "$$D = \\frac{1}{2}C_D\\rho V_{\\infty}^2S_{ref}$$\n",
    "\n",
    "comparing drag:\n",
    "\n",
    "$$\\frac{D_f}{D_s} = \\frac{\\rho_f V_{\\infty f}^2}{\\rho_s V_{\\infty s}^2} \\cdot \\frac{1}{scale^2}$$"
   ]
  },
  {
   "cell_type": "code",
   "execution_count": 231,
   "metadata": {
    "collapsed": false
   },
   "outputs": [
    {
     "name": "stdout",
     "output_type": "stream",
     "text": [
      "Full model Drag:    835.887 newton\n"
     ]
    }
   ],
   "source": [
    "D_scale = Q_(100.,'N')\n",
    "\n",
    "D_full = D_scale*ρ_full/ρ_scale*(V_full/V_scale)**2/(scale**2)\n",
    "\n",
    "print(\"Full model Drag: {0:10.3f}\".format(D_full))"
   ]
  },
  {
   "cell_type": "markdown",
   "metadata": {},
   "source": [
    "## Problem 2.8.2: impact of winglet on performance"
   ]
  },
  {
   "cell_type": "markdown",
   "metadata": {},
   "source": [
    "Data:"
   ]
  },
  {
   "cell_type": "code",
   "execution_count": 232,
   "metadata": {
    "collapsed": true
   },
   "outputs": [],
   "source": [
    "η0 = Q_(0.34,'dimensionless')\n",
    "LD = Q_(16.,'dimensionless')\n",
    "Win = Q_(225e3,'kg')\n",
    "Wfuel = Q_(105e3,'kg')\n",
    "Wfinal = Win-Wfuel\n",
    "Qr = Q_(42.,'MJ/kg')\n",
    "g = Q_(9.81,'m/s**2')"
   ]
  },
  {
   "cell_type": "code",
   "execution_count": 233,
   "metadata": {
    "collapsed": false
   },
   "outputs": [
    {
     "name": "stdout",
     "output_type": "stream",
     "text": [
      "Original range:  14640.622 kilometer\n"
     ]
    }
   ],
   "source": [
    "rng0 = LD*η0*Qr.to('m**2/s**2')/g*np.log(Win/Wfinal)\n",
    "print(\"Original range: {0:10.3f}\".format(rng0.to('km')))"
   ]
  },
  {
   "cell_type": "markdown",
   "metadata": {},
   "source": [
    "**Winglets** give 5% of reduction of Drag:\n",
    "\n",
    "Fuel consumption over the same range\n",
    "\n",
    "$$\n",
    "\\begin{align}\n",
    "\\eta_0 \\frac{L}{D} \\frac{Q_R}{g} \\ln \\left(1+\\frac{W_{fuel0}}{W_{final}}\\right)  &= \\eta_0 \\frac{L}{0.95D} \\frac{Q_R}{g} \\ln \\left(1+\\frac{W_{fuel1}}{W_{final}}\\right) \\\\\n",
    "\\left(1+\\frac{W_{fuel0}}{W_{final}}\\right)^{0.95}  &= \\left(1+\\frac{W_{fuel1}}{W_{final}}\\right)\n",
    "\\end{align}\n",
    "$$"
   ]
  },
  {
   "cell_type": "code",
   "execution_count": 234,
   "metadata": {
    "collapsed": false
   },
   "outputs": [
    {
     "name": "stdout",
     "output_type": "stream",
     "text": [
      "Improved fuel consumption:  98038.133 kilogram\n"
     ]
    }
   ],
   "source": [
    "Wfuel1 = Wfinal*( (1+Wfuel/Wfinal)**0.95 -1)\n",
    "print(\"Improved fuel consumption: {0:10.3f}\".format(Wfuel1))"
   ]
  },
  {
   "cell_type": "code",
   "execution_count": 235,
   "metadata": {
    "collapsed": false
   },
   "outputs": [],
   "source": [
    "Fuel_dens = Q_(0.81,'kg/l')\n",
    "Fuel_cost = Q_(0.75,'mol/l') # just joking... can we define new units?"
   ]
  },
  {
   "cell_type": "code",
   "execution_count": 236,
   "metadata": {
    "collapsed": false
   },
   "outputs": [
    {
     "name": "stdout",
     "output_type": "stream",
     "text": [
      "Annual savings:  2.353e+06 mole / year\n"
     ]
    }
   ],
   "source": [
    "fuel_savings = (Wfuel-Wfuel1)*Q_(365,'1/year')/Fuel_dens*Fuel_cost\n",
    "print(\"Annual savings: {0:10.3e}\".format(fuel_savings))"
   ]
  },
  {
   "cell_type": "markdown",
   "metadata": {},
   "source": [
    "**Winglets** again give 5% of reduction of Drag:\n",
    "\n",
    "Weight increase over the same range given 1% of fuel reduction\n",
    "\n",
    "$$\n",
    "\\begin{align}\n",
    "\\eta_0 \\frac{L}{D} \\frac{Q_R}{g} \\ln \\left(1+\\frac{W_{fuel}}{W_{final}}\\right)  &= \\eta_0 \\frac{L}{0.95D} \\frac{Q_R}{g} \\ln \\left(1+\\frac{0.99W_{fuel}}{W_{final1}}\\right) \\\\\n",
    "\\left(1+\\frac{W_{fuel}}{W_{final}}\\right)^{0.95}  &= \\left(1+\\frac{0.99W_{fuel}}{W_{final1}}\\right)\n",
    "\\end{align}\n",
    "$$"
   ]
  },
  {
   "cell_type": "code",
   "execution_count": 237,
   "metadata": {
    "collapsed": false
   },
   "outputs": [
    {
     "name": "stdout",
     "output_type": "stream",
     "text": [
      "Aircraft mass increment:   7236.205 kilogram\n"
     ]
    }
   ],
   "source": [
    "Wfinal1 = 0.99*Wfuel/((1+Wfuel/Wfinal)**0.95-1)\n",
    "print(\"Aircraft mass increment: {0:10.3f}\".format(Wfinal1-Wfinal))"
   ]
  },
  {
   "cell_type": "code",
   "execution_count": 238,
   "metadata": {
    "collapsed": false
   },
   "outputs": [
    {
     "name": "stdout",
     "output_type": "stream",
     "text": [
      "Annual savings:  3.549e+05 mole / year\n"
     ]
    }
   ],
   "source": [
    "fuel_savings1 = 0.01*Wfuel*Q_(365,'1/year')/Fuel_dens*Fuel_cost\n",
    "print(\"Annual savings: {0:10.3e}\".format(fuel_savings1))"
   ]
  },
  {
   "cell_type": "markdown",
   "metadata": {},
   "source": [
    "## Problem 2.8.3: Minimum power flight with *parabolic Drag Model*"
   ]
  },
  {
   "cell_type": "markdown",
   "metadata": {},
   "source": [
    "Power consumption $P = D \\cdot V_{\\infty}$\n",
    "\n",
    "$$\n",
    "\\begin{align}\n",
    "D &= \\frac{1}{2}C_D\\rho_{\\infty}V_{\\infty}^2S_{ref}\\\\\n",
    "L &= W \\\\\n",
    "L &= \\frac{1}{2}C_L\\rho_{\\infty}V_{\\infty}^2S_{ref}\n",
    "\\end{align}\n",
    "$$\n",
    "\n",
    "From the above relations:\n",
    "$$\n",
    "\\begin{align}\n",
    "P &= \\frac{1}{2}C_D\\rho_{\\infty}V_{\\infty}^3S_{ref}\\\\\n",
    "V_{\\infty} &= \\sqrt{\\frac{2W}{C_L \\rho_{\\infty} S_{ref}}}\\\\\n",
    "P &= W \\cdot \\sqrt{\\frac{2W}{\\rho_{\\infty}S_{ref}}} \\cdot C_D \\cdot C_L^{-\\frac{3}{2}}\n",
    "\\end{align}\n",
    "$$\n"
   ]
  },
  {
   "cell_type": "markdown",
   "metadata": {},
   "source": [
    "$C_L$ that minimizes power consumption"
   ]
  },
  {
   "cell_type": "code",
   "execution_count": 239,
   "metadata": {
    "collapsed": true
   },
   "outputs": [],
   "source": [
    "Cl, Cd0, K, e, AR, rho, Sr, W = sympy.symbols('C_L C_D0 K e AR rho S_r W')"
   ]
  },
  {
   "cell_type": "code",
   "execution_count": 240,
   "metadata": {
    "collapsed": false
   },
   "outputs": [
    {
     "data": {
      "image/png": "[encoded data removed]",
      "text/latex": [
       "$$\\sqrt{2} W \\sqrt{\\frac{W}{S_{r} \\rho}} \\left(C_{D0} + \\frac{C_{L}^{2}}{\\pi AR e}\\right) \\sqrt{\\frac{1}{C_{L}^{3}}}$$"
      ],
      "text/plain": [
       "            ______ ⎛           2 ⎞      ______\n",
       "  ___      ╱  W    ⎜        C_L  ⎟     ╱  1   \n",
       "╲╱ 2 ⋅W⋅  ╱  ──── ⋅⎜C_D0 + ──────⎟⋅   ╱  ──── \n",
       "        ╲╱   Sᵣ⋅ρ  ⎝       π⋅AR⋅e⎠   ╱      3 \n",
       "                                   ╲╱    C_L  "
      ]
     },
     "execution_count": 240,
     "metadata": {},
     "output_type": "execute_result"
    }
   ],
   "source": [
    "P_expr = sympy.sqrt(2*W/(rho*Sr))*W*(Cd0+Cl**2/(sympy.pi*e*AR))*sympy.sqrt(Cl**(-3))\n",
    "P_expr"
   ]
  },
  {
   "cell_type": "code",
   "execution_count": 241,
   "metadata": {
    "collapsed": false
   },
   "outputs": [
    {
     "data": {
      "image/png": "[encoded data removed]",
      "text/latex": [
       "$$\\frac{\\sqrt{2} W \\sqrt{\\frac{W}{S_{r} \\rho}} \\sqrt{\\frac{1}{C_{L}^{3}}}}{2 \\pi AR C_{L} e} \\left(- 3 \\pi AR C_{D0} e + C_{L}^{2}\\right)$$"
      ],
      "text/plain": [
       "            ______                              ______\n",
       "  ___      ╱  W    ⎛                    2⎞     ╱  1   \n",
       "╲╱ 2 ⋅W⋅  ╱  ──── ⋅⎝-3⋅π⋅AR⋅C_D0⋅e + C_L ⎠⋅   ╱  ──── \n",
       "        ╲╱   Sᵣ⋅ρ                            ╱      3 \n",
       "                                           ╲╱    C_L  \n",
       "──────────────────────────────────────────────────────\n",
       "                     2⋅π⋅AR⋅C_L⋅e                     "
      ]
     },
     "execution_count": 241,
     "metadata": {},
     "output_type": "execute_result"
    }
   ],
   "source": [
    "sympy.simplify(sympy.diff(P_expr,Cl))"
   ]
  },
  {
   "cell_type": "markdown",
   "metadata": {},
   "source": [
    "Lift coefficient at minimum power consumption: $C_L = \\sqrt{3 \\pi e AR C_{D0}}$\n",
    "\n",
    "Induced Drag - Total Drag ratio: $C_D = C_{D0} + \\frac{C_L^2}{\\pi e AR} = C_{D0} + 3 C_{D0}$\n",
    "\n",
    "$$\\frac{C_{Di}}{C_D} = \\frac{3}{4}$$"
   ]
  },
  {
   "cell_type": "markdown",
   "metadata": {},
   "source": [
    "Case of autonomous aircraft"
   ]
  },
  {
   "cell_type": "code",
   "execution_count": 242,
   "metadata": {
    "collapsed": false
   },
   "outputs": [],
   "source": [
    "Splan = Q_(0.3,'m**2')\n",
    "W = Q_(3.5,'N').to('kg*m/s**2')\n",
    "ρ = Q_(1.225,'kg/m**3')\n",
    "AR = Q_(10,'dimensionless')\n",
    "e = Q_(0.95,'dimensionless')\n",
    "Cd0 = Q_(0.02,'dimensionless')"
   ]
  },
  {
   "cell_type": "code",
   "execution_count": 243,
   "metadata": {
    "collapsed": false
   },
   "outputs": [
    {
     "name": "stdout",
     "output_type": "stream",
     "text": [
      "Lift Coefficient at minimum power consumption:      1.338 dimensionless\n"
     ]
    }
   ],
   "source": [
    "Cl_min = np.sqrt(3*np.pi*e*AR*Cd0)\n",
    "print(\"Lift Coefficient at minimum power consumption: {0:10.3f}\".format(Cl_min))"
   ]
  },
  {
   "cell_type": "code",
   "execution_count": 244,
   "metadata": {
    "collapsed": false
   },
   "outputs": [
    {
     "name": "stdout",
     "output_type": "stream",
     "text": [
      "Drag Coefficient at minimum power consumption:      0.080 dimensionless\n"
     ]
    }
   ],
   "source": [
    "Cd_min = 4*Cd0\n",
    "print(\"Drag Coefficient at minimum power consumption: {0:10.3f}\".format(Cd_min))"
   ]
  },
  {
   "cell_type": "code",
   "execution_count": 245,
   "metadata": {
    "collapsed": false
   },
   "outputs": [
    {
     "name": "stdout",
     "output_type": "stream",
     "text": [
      "Velocity at minimum power consumption:      3.773 meter / second\n"
     ]
    }
   ],
   "source": [
    "Vinf = np.sqrt(2*W/(Cl_min*ρ*Splan))\n",
    "print(\"Velocity at minimum power consumption: {0:10.3f}\".format(Vinf))"
   ]
  },
  {
   "cell_type": "code",
   "execution_count": 246,
   "metadata": {
    "collapsed": false
   },
   "outputs": [
    {
     "name": "stdout",
     "output_type": "stream",
     "text": [
      "Thrust required at minimum power consumption:      0.209 newton\n"
     ]
    }
   ],
   "source": [
    "T = (0.5*Cd_min*ρ*Vinf**2*Splan).to('N')\n",
    "print(\"Thrust required at minimum power consumption: {0:10.3f}\".format(T))"
   ]
  },
  {
   "cell_type": "code",
   "execution_count": 247,
   "metadata": {
    "collapsed": false
   },
   "outputs": [
    {
     "name": "stdout",
     "output_type": "stream",
     "text": [
      "Power required at minimum power consumption:      0.789 watt\n"
     ]
    }
   ],
   "source": [
    "P = (T*Vinf).to('W')\n",
    "print(\"Power required at minimum power consumption: {0:10.3f}\".format(P))"
   ]
  },
  {
   "cell_type": "code",
   "execution_count": null,
   "metadata": {
    "collapsed": true
   },
   "outputs": [],
   "source": []
  }
 ],
 "metadata": {
  "kernelspec": {
   "display_name": "Python 3",
   "language": "python",
   "name": "python3"
  },
  "language_info": {
   "codemirror_mode": {
    "name": "ipython",
    "version": 3
   },
   "file_extension": ".py",
   "mimetype": "text/x-python",
   "name": "python",
   "nbconvert_exporter": "python",
   "pygments_lexer": "ipython3",
   "version": "3.4.3"
  }
 },
 "nbformat": 4,
 "nbformat_minor": 0
}
